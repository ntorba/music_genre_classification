{
 "cells": [
  {
   "cell_type": "code",
   "execution_count": 1,
   "metadata": {
    "collapsed": true
   },
   "outputs": [],
   "source": [
    "import pretty_midi\n",
    "import numpy as np"
   ]
  },
  {
   "cell_type": "code",
   "execution_count": 23,
   "metadata": {
    "scrolled": true
   },
   "outputs": [
    {
     "name": "stdout",
     "output_type": "stream",
     "text": [
      "\n",
      "<class 'pretty_midi.instrument.Instrument'>\n",
      "Instrument(program=50, is_drum=False, name=\"50 Cent Ft. Olivia\")\n",
      "Instrument(program=73, is_drum=False, name=\"\\\"Candy Shop\\\"\")\n",
      "Instrument(program=49, is_drum=False, name=\"wattz21xx@gmail.com\")\n",
      "Instrument(program=50, is_drum=False, name=\"http://www.wattzbeatz.com/\")\n",
      "Instrument(program=42, is_drum=False, name=\"-\")\n",
      "Instrument(program=108, is_drum=False, name=\"-\")\n",
      "Instrument(program=0, is_drum=True, name=\"-\")\n",
      "Instrument(program=117, is_drum=False, name=\"-\")\n",
      "Instrument(program=115, is_drum=False, name=\"-\")\n",
      "30\n",
      "30\n",
      "30\n",
      "30\n",
      "30\n",
      "30\n",
      "30\n",
      "30\n",
      "30\n",
      "30\n",
      "30\n",
      "30\n",
      "30\n",
      "30\n",
      "30\n",
      "30\n",
      "30\n",
      "30\n",
      "30\n",
      "30\n",
      "30\n",
      "30\n",
      "30\n",
      "30\n",
      "30\n",
      "30\n",
      "30\n",
      "30\n",
      "30\n",
      "30\n",
      "30\n",
      "30\n",
      "30\n",
      "30\n",
      "30\n",
      "30\n",
      "30\n",
      "30\n",
      "30\n",
      "30\n",
      "30\n",
      "30\n",
      "30\n",
      "30\n",
      "30\n",
      "30\n",
      "30\n",
      "30\n",
      "30\n",
      "30\n",
      "30\n",
      "30\n",
      "30\n",
      "30\n",
      "30\n",
      "30\n",
      "30\n",
      "30\n",
      "30\n",
      "30\n",
      "30\n",
      "30\n",
      "30\n",
      "30\n",
      "30\n",
      "30\n",
      "30\n",
      "30\n",
      "30\n",
      "30\n",
      "30\n",
      "30\n",
      "30\n",
      "30\n",
      "30\n",
      "30\n",
      "30\n",
      "30\n",
      "30\n",
      "30\n",
      "30\n",
      "30\n",
      "30\n",
      "30\n",
      "30\n",
      "30\n",
      "30\n",
      "30\n",
      "30\n",
      "30\n",
      "<class 'list'>\n",
      "90\n"
     ]
    }
   ],
   "source": [
    "# Load MIDI file into PrettyMIDI object\n",
    "midi_data = pretty_midi.PrettyMIDI('CandyShop.mid')\n",
    "# Print an empirical estimate of its global tempo\n",
    "\n",
    "\n",
    "piano_roll = midi_data.get_piano_roll(10)\n",
    "\n",
    "#print(piano_roll.shape)\n",
    "#print(piano_roll)\n",
    "\n",
    "count = 0\n",
    "non_zero_indices=[]\n",
    "instrument_rows = []\n",
    "for i in range(len(piano_roll)):\n",
    "    for j in range(len(piano_roll[0])):\n",
    "        if piano_roll[i][j]!=0:\n",
    "            index_tuple=(i,j)\n",
    "            non_zero_indices.append(index_tuple)\n",
    "            count+=1\n",
    "            if i not in instrument_rows:\n",
    "                instrument_rows.append(i)\n",
    "            \n",
    "\n",
    "#for i in range(len(piano_roll[i])):\n",
    "#print(piano_roll[30][:50],end=' ')\n",
    "#print(non_zero_indices) \n",
    "print()\n",
    "\n",
    "#print(instrument_rows)\n",
    "\n",
    "#print(midi_data.instruments[0].notes[0])\n",
    "\n",
    "print(type(midi_data.instruments[0]))\n",
    "\n",
    "for instrument in midi_data.instruments:\n",
    "    print(instrument)\n",
    "\n",
    "for note in midi_data.instruments[0].notes:\n",
    "    print(note.pitch)\n",
    "print(type(midi_data.instruments[0].notes))\n",
    "print(len(midi_data.instruments[0].notes))\n",
    "#count"
   ]
  },
  {
   "cell_type": "code",
   "execution_count": 60,
   "metadata": {},
   "outputs": [
    {
     "data": {
      "text/plain": [
       "[Instrument(program=50, is_drum=False, name=\"50 Cent Ft. Olivia\"),\n",
       " Instrument(program=73, is_drum=False, name=\"\\\"Candy Shop\\\"\"),\n",
       " Instrument(program=49, is_drum=False, name=\"wattz21xx@gmail.com\"),\n",
       " Instrument(program=50, is_drum=False, name=\"http://www.wattzbeatz.com/\"),\n",
       " Instrument(program=42, is_drum=False, name=\"-\"),\n",
       " Instrument(program=108, is_drum=False, name=\"-\"),\n",
       " Instrument(program=0, is_drum=True, name=\"-\"),\n",
       " Instrument(program=117, is_drum=False, name=\"-\"),\n",
       " Instrument(program=115, is_drum=False, name=\"-\")]"
      ]
     },
     "execution_count": 60,
     "metadata": {},
     "output_type": "execute_result"
    }
   ],
   "source": [
    "midi_data.instruments"
   ]
  },
  {
   "cell_type": "code",
   "execution_count": 30,
   "metadata": {},
   "outputs": [
    {
     "name": "stdout",
     "output_type": "stream",
     "text": [
      "4\n"
     ]
    }
   ],
   "source": [
    "#try to look at the time and make it not in deltas \n",
    "test_arr = np.zeros((5,4))\n",
    "test_arr\n",
    "print(test_arr.shape[1])"
   ]
  },
  {
   "cell_type": "code",
   "execution_count": 43,
   "metadata": {},
   "outputs": [
    {
     "data": {
      "text/plain": [
       "array([[  0,   0,   0,   0],\n",
       "       [  0, 100,  40,   0],\n",
       "       [  0,   0,   0,   0],\n",
       "       [  7,   0,   0,   0],\n",
       "       [  0,   0,   0,   0],\n",
       "       [  0,   0,   0,   0]])"
      ]
     },
     "execution_count": 43,
     "metadata": {},
     "output_type": "execute_result"
    }
   ],
   "source": [
    "test_list = [[0,0,0,0],[0,100,40,0],[0, 0, 0, 0],[7,0,0,0],[0,0,0,0],[0,0,0,0]]\n",
    "\n",
    "test_np_arr = np.array(test_list)\n",
    "test_np_arr"
   ]
  },
  {
   "cell_type": "code",
   "execution_count": 44,
   "metadata": {},
   "outputs": [
    {
     "name": "stdout",
     "output_type": "stream",
     "text": [
      "[   7.  100.   40.    0.]\n"
     ]
    }
   ],
   "source": [
    "#@inputs: note_array is a matrix that is 128xinstrument.get_piano_roll() long. The number of columns is dependent upon how\n",
    "            # sample will be split by time\n",
    "\n",
    "#@returns: a vector that contains the root note at each time sample\n",
    "def instrument_to_vector(note_array):\n",
    "    note_array_transpose = np.transpose(note_array)\n",
    "    note_vector = np.zeros(note_array.shape[1])\n",
    "    for i in range(note_array_transpose.shape[0]): #The i here will be the column number of the transpose, which is the note\n",
    "                                                   #This loop should iterate through the number of columns in transpose\n",
    "        note_list=[]\n",
    "        for number in note_array_transpose[i]:\n",
    "            #print(number,end=', ')\n",
    "            #print(i)\n",
    "            #note_list = []\n",
    "            if number!=0:\n",
    "                note_list.append(number) #add the number aka the note being played \n",
    "                                        # if there is no number there is no note played so that place is 0\n",
    "            if len(note_list)!=1:\n",
    "                note_vector[i]=0\n",
    "            else:\n",
    "                note_vector[i]=note_list[0]\n",
    "    return note_vector\n",
    "        \n",
    "\n",
    "\n",
    "print(instrument_to_vector(test_np_arr))"
   ]
  },
  {
   "cell_type": "code",
   "execution_count": null,
   "metadata": {
    "collapsed": true
   },
   "outputs": [],
   "source": [
    "def main():\n",
    "    # here we are taking each vector of notes for each instrument and combining them into the total feature matrix. \n",
    "    # \n",
    "    num_instruments = 6 #find the number of instruments for an actual problem later\n",
    "    data_matrix = np.array((, midi_data.get_piano_roll())) \n",
    "        # data matrix will be the final matrix used that is input into the RNN\n",
    "        # each row will be the notes played by a different instrument. \n",
    "        # the number of columns is how many time samples the song is split into \n",
    "        \n",
    "    \n",
    "    for instrument in range(num_instruments):\n",
    "        #run Anish's code on each instrument\n",
    "        #run my code on each as done below\n",
    "        instrument = instrument_to_vector(instrument)\n",
    "        data_matrix[i]=instrument #I think this line will make each row in the matrix the corresponding matrix for each instrument\n",
    "        \n",
    "        \n",
    "    "
   ]
  }
 ],
 "metadata": {
  "kernelspec": {
   "display_name": "Python 3",
   "language": "python",
   "name": "python3"
  },
  "language_info": {
   "codemirror_mode": {
    "name": "ipython",
    "version": 3
   },
   "file_extension": ".py",
   "mimetype": "text/x-python",
   "name": "python",
   "nbconvert_exporter": "python",
   "pygments_lexer": "ipython3",
   "version": "3.6.1"
  }
 },
 "nbformat": 4,
 "nbformat_minor": 2
}
