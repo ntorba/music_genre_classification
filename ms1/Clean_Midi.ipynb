{
 "cells": [
  {
   "cell_type": "code",
   "execution_count": 8,
   "metadata": {
    "collapsed": true
   },
   "outputs": [],
   "source": [
    "import pretty_midi\n",
    "import numpy as np\n",
    "import itertools\n",
    "import random\n",
    "import glob"
   ]
  },
  {
   "cell_type": "code",
   "execution_count": 9,
   "metadata": {
    "collapsed": true
   },
   "outputs": [],
   "source": [
    "#Checks current directory for the midi file extension and returns a list of all the midi files\n",
    "def getMidi():\n",
    "    return glob.glob(\"*.mid\")"
   ]
  },
  {
   "cell_type": "code",
   "execution_count": 10,
   "metadata": {
    "collapsed": true
   },
   "outputs": [],
   "source": [
    "def chordTransform(chord): \n",
    "    #all possible triad chords\n",
    "    triads = {\n",
    "            'major' : [4, 3],\n",
    "            'minor' : [3, 4],\n",
    "            'dim' : [3, 3],\n",
    "            'aug' : [4, 4]\n",
    "        }\n",
    "    \n",
    "    #If not triad then returns a random note of the chord\n",
    "    if len(chord) != 3:\n",
    "        root_note = random.choice(chord)\n",
    "        return root_note\n",
    "    \n",
    "    #Finds the corresponding notes and its root note\n",
    "    root_chord = {}\n",
    "    for note in chord:\n",
    "        root_chord[note]= note%12\n",
    "    \n",
    "    # Get all possible permutations of these notes\n",
    "    note_perms = list(itertools.permutations(list(root_chord.values())))\n",
    "\n",
    "    # Test each permutation against the possible triad intervals and return the triad type if there's a match.\n",
    "    for i in range(len(note_perms)-1):\n",
    "        notes_intervals = []\n",
    "        posRoot_note = 99\n",
    "        root_note = 99\n",
    "\n",
    "        # Loop through notes and create a list, length 2, of intervals to check against\n",
    "        for j in range(len(chord)-1):\n",
    "            \n",
    "            #Stores the current and next note in the possible permutations\n",
    "            note_A = note_perms[i][j]\n",
    "            note_B = note_perms[i][j+1]\n",
    "            \n",
    "            #finds the interval\n",
    "            interval = note_B - note_A\n",
    "            \n",
    "            #If the interval is negative then loops around just a different octave\n",
    "            if interval < 0:\n",
    "                interval = interval + 12\n",
    "                \n",
    "            #Store the interval\n",
    "            notes_intervals.append(interval)\n",
    "            \n",
    "            #The lowest note is the possible root note so checks for that and stores it\n",
    "            if note_A <= note_B:\n",
    "                if note_A < posRoot_note:\n",
    "                    posRoot_note = note_A\n",
    "            if note_B <= note_A: \n",
    "                if note_B < posRoot_note:\n",
    "                    posRoot_note = note_B\n",
    "                    \n",
    "        # Finally loop through the traids dict to see if we have a match for a triad\n",
    "        for t in triads.keys():\n",
    "            if triads[t] == notes_intervals:\n",
    "                \n",
    "                #If so the root note is the lowest note of the triad\n",
    "                #This method finds a key given a value\n",
    "                for real_root, pseudo_root in root_chord.items():\n",
    "                    if pseudo_root == posRoot_note:\n",
    "                        return real_root\n",
    "            \n",
    "    #If not then the root note is a random note from the collection of notes\n",
    "    if root_note not in range(12):\n",
    "        root_note = random.choice(list(root_chord.keys()))\n",
    "        return root_note"
   ]
  },
  {
   "cell_type": "code",
   "execution_count": 11,
   "metadata": {
    "collapsed": true
   },
   "outputs": [],
   "source": [
    "#@inputs: note_array is a matrix that is 128xinstrument.get_piano_roll() long. The number of columns is dependent upon how\n",
    "            # sample will be split by time\n",
    "\n",
    "#@returns: a vector that contains the root note at each time sample\n",
    "def instrument_to_vector(note_array):\n",
    "    note_array_transpose = np.transpose(note_array)\n",
    "    note_vector = np.zeros(note_array.shape[1])\n",
    "    for i in range(note_array_transpose.shape[0]): #The i here will be the column number of the transpose, which is the note\n",
    "                                                   #This loop should iterate through the number of columns in transpose\n",
    "        note_list=[]\n",
    "        for number in note_array_transpose[i]:\n",
    "            if number!=0:\n",
    "                note_list.append(number) #add the number aka the note being played \n",
    "                                        # if there is no number there is no note played so that place is 0\n",
    "            if len(note_list)!=1:\n",
    "                note_vector[i]=0\n",
    "            else:\n",
    "                note_vector[i]=note_list[0]\n",
    "    return note_vector"
   ]
  },
  {
   "cell_type": "code",
   "execution_count": 12,
   "metadata": {
    "collapsed": true
   },
   "outputs": [],
   "source": [
    "def NoteMatrix(midi_data, samplesPerSec):\n",
    "    #Defines how many samples per second\n",
    "    fs = samplesPerSec\n",
    "\n",
    "    #Returns the total amount of samples gotten\n",
    "    y = np.arange(0, midi_data.get_end_time(), 1./fs).shape[0]\n",
    "\n",
    "    #Our desired matrix has the amount of samples for every possible instrument\n",
    "    noteMatrix = np.zeros(shape=(128, y))\n",
    "\n",
    "    #Iterates through all the instruments of the midi song\n",
    "    for instrument in midi_data.instruments:\n",
    "\n",
    "        #Creates an array of all the notes the instrument can possibly play over a time sample and its velocity\n",
    "        total_notes = np.asarray(instrument.get_piano_roll(fs=fs, times=np.arange(0, midi_data.get_end_time(), 1./fs)))\n",
    "\n",
    "        #Holder for the final array that converts chords into notes making all instruments monophonic\n",
    "        converted_notes = np.zeros(shape=total_notes.shape)\n",
    "\n",
    "        #Goes through each time sample to see if notes repeat, if so find the root node of this chord\n",
    "        i=0\n",
    "        \n",
    "        for column in total_notes.T:\n",
    "\n",
    "            #Notes repeat in a time slice\n",
    "            if np.count_nonzero(column) > 1:\n",
    "\n",
    "                #create a list containing the notes played\n",
    "                chord = np.where(column>0)[0]\n",
    "                \n",
    "                if len(chord) > 0:\n",
    "                    #finds the root note of the chord\n",
    "                    root_note = chordTransform(chord)\n",
    "\n",
    "                    #removes all other notes other than the root\n",
    "                    for note in chord:\n",
    "                        if note != root_note:\n",
    "                            column[note] = 0\n",
    "\n",
    "                    #Classify the time slice by the root note itself not velocity\n",
    "                    column[root_note] = root_note\n",
    "\n",
    "                #Store in the converted notes\n",
    "            converted_notes[:, i] = column\n",
    "            i += 1\n",
    "\n",
    "        #As every time splice has only one note with the note defined, convert into vector\n",
    "        instrument_vector = instrument_to_vector(converted_notes)\n",
    "\n",
    "        #For that instrument store the vector of the notes played out of all\n",
    "        noteMatrix[instrument.program] = instrument_vector\n",
    "    return noteMatrix"
   ]
  },
  {
   "cell_type": "code",
   "execution_count": 13,
   "metadata": {
    "scrolled": true
   },
   "outputs": [],
   "source": [
    "#Makes a list of all the note matrices for all midis\n",
    "midi_note = []\n",
    "\n",
    "#Makes a list of all the labels for each corresponding midi's note matrix\n",
    "midi_label = []\n",
    "\n",
    "#Iterates through all midis\n",
    "for midi in getMidi():\n",
    "    \n",
    "    #Opens midi as a pretty midi file\n",
    "    midi_data = pretty_midi.PrettyMIDI(midi)\n",
    "    \n",
    "    #creates the note matrix\n",
    "    noteMatrix = NoteMatrix(midi_data, 10)\n",
    "    \n",
    "    #adds to list of matrices\n",
    "    midi_note.append(noteMatrix)\n",
    "    \n",
    "    #stores the label of the midi file which is the first two letters of each midi\n",
    "    midi_label.append(midi[:2])"
   ]
  },
  {
   "cell_type": "code",
   "execution_count": 22,
   "metadata": {},
   "outputs": [
    {
     "data": {
      "text/plain": [
       "array([  0.,   0.,   0., ...,  65.,   0.,   0.])"
      ]
     },
     "execution_count": 22,
     "metadata": {},
     "output_type": "execute_result"
    }
   ],
   "source": [
    "midi_note[1][114]\n"
   ]
  },
  {
   "cell_type": "code",
   "execution_count": 14,
   "metadata": {},
   "outputs": [
    {
     "ename": "SyntaxError",
     "evalue": "invalid syntax (<ipython-input-14-04da0151a2ef>, line 1)",
     "output_type": "error",
     "traceback": [
      "\u001b[0;36m  File \u001b[0;32m\"<ipython-input-14-04da0151a2ef>\"\u001b[0;36m, line \u001b[0;32m1\u001b[0m\n\u001b[0;31m    def(lst):\u001b[0m\n\u001b[0m       ^\u001b[0m\n\u001b[0;31mSyntaxError\u001b[0m\u001b[0;31m:\u001b[0m invalid syntax\n"
     ]
    }
   ],
   "source": [
    "def(lst):\n",
    "    count = 0\n",
    "    for i in lst:\n",
    "        if i>=0:\n",
    "            count+=1\n",
    "    return count"
   ]
  },
  {
   "cell_type": "code",
   "execution_count": null,
   "metadata": {
    "collapsed": true
   },
   "outputs": [],
   "source": []
  }
 ],
 "metadata": {
  "kernelspec": {
   "display_name": "Python 3",
   "language": "python",
   "name": "python3"
  },
  "language_info": {
   "codemirror_mode": {
    "name": "ipython",
    "version": 3
   },
   "file_extension": ".py",
   "mimetype": "text/x-python",
   "name": "python",
   "nbconvert_exporter": "python",
   "pygments_lexer": "ipython3",
   "version": "3.6.1"
  }
 },
 "nbformat": 4,
 "nbformat_minor": 2
}
